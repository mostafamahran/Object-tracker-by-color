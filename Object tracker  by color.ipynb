{
 "cells": [
  {
   "cell_type": "markdown",
   "metadata": {},
   "source": [
    "Object Tracker By Color\n",
    "Build Object Tracker By Color\n",
    "\n",
    "Function will ask the user about the object to track\n",
    "\n",
    "User feed string input e.g. \"Blue Shirt\"\n",
    "\n",
    "Function would use the first word to choose the corresponding lower and upper limit in range method\n",
    "\n",
    "Make the function ready for at least 3 colors ( Red , Green , Blue )"
   ]
  },
  {
   "cell_type": "code",
   "execution_count": 21,
   "metadata": {},
   "outputs": [],
   "source": [
    "import cv2 \n",
    "import numpy as np \n",
    "import matplotlib.pyplot as plt "
   ]
  },
  {
   "cell_type": "code",
   "execution_count": 22,
   "metadata": {},
   "outputs": [],
   "source": [
    "def object_tracker():\n",
    "    while(1):\n",
    "        text_input = input('Kindly write object color to track it: ')\n",
    "        x = text_input.split()\n",
    "        if x[0].casefold() == 'red':\n",
    "            red = np.uint8([[[0,0,255 ]]])\n",
    "            color = cv2.cvtColor(red,cv2.COLOR_BGR2HSV)\n",
    "            break\n",
    "        if x[0].casefold() == 'blue' or  x == 'blue' or x[0].casefold() == 'BLUE':\n",
    "            blue = np.uint8([[[255,0,0 ]]])\n",
    "            color = cv2.cvtColor(blue,cv2.COLOR_BGR2HSV)\n",
    "            break\n",
    "        if x[0].casefold() == 'green':\n",
    "            green = np.uint8([[[0,255,0 ]]])\n",
    "            color = cv2.cvtColor(green,cv2.COLOR_BGR2HSV)\n",
    "            break    \n",
    "            \n",
    "    while(1):\n",
    "        pref = input('select Video or Live: ')\n",
    "        if pref.lower() == 'video':\n",
    "            cap = cv2.VideoCapture('C:\\\\Users\\\\Mostafa\\\\Desktop\\\\Movies\\\\Suits\\\\S01\\\\Suits.S01E01.480p.vk007.mkv')\n",
    "            # you can replace with any \n",
    "            #python acceptable path \n",
    "            break\n",
    "        elif pref.lower() == 'live':\n",
    "            cap = cv2.VideoCapture(0)\n",
    "            break\n",
    "\n",
    "# cap = cv2.VideoCapture(0)\n",
    "    print(color)\n",
    "    while(1):\n",
    "        _, frame = cap.read()\n",
    "        hsv = cv2.cvtColor(frame, cv2.COLOR_BGR2HSV)\n",
    "\n",
    "        # define range of blue color in HSV\n",
    "        lower_blue = np.array([color[0][0][0]-5,50,50])\n",
    "        upper_blue = np.array([color[0][0][0]+5,color[0][0][1],color[0][0][2]])\n",
    "        # Threshold the HSV image to get only blue colors\n",
    "        mask = cv2.inRange(hsv, lower_blue, upper_blue)\n",
    "        result = cv2.bitwise_and(frame,frame, mask= mask)\n",
    "\n",
    "        cv2.imshow('frame',frame)\n",
    "        cv2.imshow('mask',mask)\n",
    "        cv2.imshow('res',result)\n",
    "\n",
    "        k = cv2.waitKey(5) & 0xFF\n",
    "        if k == 27:\n",
    "\n",
    "            break\n",
    "\n",
    "    cv2.destroyAllWindows()\n",
    "    cap.release()    "
   ]
  },
  {
   "cell_type": "code",
   "execution_count": 23,
   "metadata": {},
   "outputs": [
    {
     "name": "stdout",
     "output_type": "stream",
     "text": [
      "Kindly write object color to track it: l\n",
      "Kindly write object color to track it: blue\n",
      "select Video or Live: viedo\n",
      "select Video or Live: video\n",
      "[[[120 255 255]]]\n"
     ]
    }
   ],
   "source": [
    "object_tracker()"
   ]
  },
  {
   "cell_type": "code",
   "execution_count": 6,
   "metadata": {},
   "outputs": [
    {
     "name": "stdout",
     "output_type": "stream",
     "text": [
      "[[[120 255 244]]]\n"
     ]
    }
   ],
   "source": [
    "green = np.uint8([[[244,0,0]]]) \n",
    "# Bgr\n",
    "hsv_green = cv2.cvtColor(green,cv2.COLOR_BGR2HSV)\n",
    "print( hsv_green)"
   ]
  },
  {
   "cell_type": "code",
   "execution_count": null,
   "metadata": {},
   "outputs": [],
   "source": []
  }
 ],
 "metadata": {
  "kernelspec": {
   "display_name": "Python 3",
   "language": "python",
   "name": "python3"
  },
  "language_info": {
   "codemirror_mode": {
    "name": "ipython",
    "version": 3
   },
   "file_extension": ".py",
   "mimetype": "text/x-python",
   "name": "python",
   "nbconvert_exporter": "python",
   "pygments_lexer": "ipython3",
   "version": "3.8.3"
  }
 },
 "nbformat": 4,
 "nbformat_minor": 4
}
